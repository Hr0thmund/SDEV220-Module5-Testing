{
 "cells": [
  {
   "cell_type": "code",
   "execution_count": 1,
   "id": "29ccf498-129a-4dc1-804f-5c9fa9fcbe12",
   "metadata": {},
   "outputs": [],
   "source": [
    "# Lee Fawkes\n",
    "# SDEV 220 - Andrew Emily\n",
    "# Module 5 Programming Assignment - Testing"
   ]
  },
  {
   "cell_type": "code",
   "execution_count": 3,
   "id": "4d1a6615-1ed2-4303-960d-5e8cc7bc5add",
   "metadata": {},
   "outputs": [],
   "source": [
    "assert sum([1, 2, 3]) == 6, \"Should be 6\""
   ]
  },
  {
   "cell_type": "code",
   "execution_count": 5,
   "id": "8832cd21-fbb6-4142-8660-bd851028fd47",
   "metadata": {},
   "outputs": [
    {
     "ename": "AssertionError",
     "evalue": "Should be 6",
     "output_type": "error",
     "traceback": [
      "\u001b[1;31m---------------------------------------------------------------------------\u001b[0m",
      "\u001b[1;31mAssertionError\u001b[0m                            Traceback (most recent call last)",
      "Cell \u001b[1;32mIn[5], line 1\u001b[0m\n\u001b[1;32m----> 1\u001b[0m \u001b[38;5;28;01massert\u001b[39;00m \u001b[38;5;28msum\u001b[39m([\u001b[38;5;241m1\u001b[39m, \u001b[38;5;241m1\u001b[39m, \u001b[38;5;241m1\u001b[39m]) \u001b[38;5;241m==\u001b[39m \u001b[38;5;241m6\u001b[39m, \u001b[38;5;124m\"\u001b[39m\u001b[38;5;124mShould be 6\u001b[39m\u001b[38;5;124m\"\u001b[39m\n",
      "\u001b[1;31mAssertionError\u001b[0m: Should be 6"
     ]
    }
   ],
   "source": [
    "assert sum([1, 1, 1]) == 6, \"Should be 6\""
   ]
  },
  {
   "cell_type": "code",
   "execution_count": 7,
   "id": "15103871-d3f5-43ea-b47e-451ee9c02223",
   "metadata": {},
   "outputs": [
    {
     "name": "stdout",
     "output_type": "stream",
     "text": [
      "Everything passed\n"
     ]
    }
   ],
   "source": [
    "def test_sum():\n",
    "    assert sum([1, 2, 3]) == 6, \"Should be 6\"\n",
    "\n",
    "if __name__ == \"__main__\":\n",
    "    test_sum()\n",
    "    print(\"Everything passed\")\n"
   ]
  },
  {
   "cell_type": "code",
   "execution_count": 9,
   "id": "10da2b56-1246-4c07-972f-5b8ba44143a6",
   "metadata": {},
   "outputs": [
    {
     "ename": "AssertionError",
     "evalue": "Should be 6",
     "output_type": "error",
     "traceback": [
      "\u001b[1;31m---------------------------------------------------------------------------\u001b[0m",
      "\u001b[1;31mAssertionError\u001b[0m                            Traceback (most recent call last)",
      "Cell \u001b[1;32mIn[9], line 9\u001b[0m\n\u001b[0;32m      7\u001b[0m \u001b[38;5;28;01mif\u001b[39;00m \u001b[38;5;18m__name__\u001b[39m \u001b[38;5;241m==\u001b[39m \u001b[38;5;124m\"\u001b[39m\u001b[38;5;124m__main__\u001b[39m\u001b[38;5;124m\"\u001b[39m:\n\u001b[0;32m      8\u001b[0m     test_sum()\n\u001b[1;32m----> 9\u001b[0m     test_sum_tuple()\n\u001b[0;32m     10\u001b[0m     \u001b[38;5;28mprint\u001b[39m(\u001b[38;5;124m\"\u001b[39m\u001b[38;5;124mEverything passed\u001b[39m\u001b[38;5;124m\"\u001b[39m)\n",
      "Cell \u001b[1;32mIn[9], line 5\u001b[0m, in \u001b[0;36mtest_sum_tuple\u001b[1;34m()\u001b[0m\n\u001b[0;32m      4\u001b[0m \u001b[38;5;28;01mdef\u001b[39;00m \u001b[38;5;21mtest_sum_tuple\u001b[39m():\n\u001b[1;32m----> 5\u001b[0m     \u001b[38;5;28;01massert\u001b[39;00m \u001b[38;5;28msum\u001b[39m((\u001b[38;5;241m1\u001b[39m, \u001b[38;5;241m2\u001b[39m, \u001b[38;5;241m2\u001b[39m)) \u001b[38;5;241m==\u001b[39m \u001b[38;5;241m6\u001b[39m, \u001b[38;5;124m\"\u001b[39m\u001b[38;5;124mShould be 6\u001b[39m\u001b[38;5;124m\"\u001b[39m\n",
      "\u001b[1;31mAssertionError\u001b[0m: Should be 6"
     ]
    }
   ],
   "source": [
    "def test_sum():\n",
    "    assert sum([1, 2, 3]) == 6, \"Should be 6\"\n",
    "\n",
    "def test_sum_tuple():\n",
    "    assert sum((1, 2, 2)) == 6, \"Should be 6\"\n",
    "\n",
    "if __name__ == \"__main__\":\n",
    "    test_sum()\n",
    "    test_sum_tuple()\n",
    "    print(\"Everything passed\")\n"
   ]
  },
  {
   "cell_type": "code",
   "execution_count": 11,
   "id": "28106432-143c-4485-8e95-f7484fa5c41a",
   "metadata": {},
   "outputs": [
    {
     "name": "stderr",
     "output_type": "stream",
     "text": [
      "E\n",
      "======================================================================\n",
      "ERROR: C:\\Users\\Volund\\AppData\\Roaming\\jupyter\\runtime\\kernel-0a66318f-a5ae-411b-9f80-4c51ad6af378 (unittest.loader._FailedTest.C:\\Users\\Volund\\AppData\\Roaming\\jupyter\\runtime\\kernel-0a66318f-a5ae-411b-9f80-4c51ad6af378)\n",
      "----------------------------------------------------------------------\n",
      "AttributeError: module '__main__' has no attribute 'C:\\Users\\Volund\\AppData\\Roaming\\jupyter\\runtime\\kernel-0a66318f-a5ae-411b-9f80-4c51ad6af378'\n",
      "\n",
      "----------------------------------------------------------------------\n",
      "Ran 1 test in 0.001s\n",
      "\n",
      "FAILED (errors=1)\n"
     ]
    },
    {
     "ename": "SystemExit",
     "evalue": "1",
     "output_type": "error",
     "traceback": [
      "An exception has occurred, use %tb to see the full traceback.\n",
      "\u001b[1;31mSystemExit\u001b[0m\u001b[1;31m:\u001b[0m 1\n"
     ]
    },
    {
     "name": "stderr",
     "output_type": "stream",
     "text": [
      "C:\\Users\\Volund\\anaconda3\\Lib\\site-packages\\IPython\\core\\interactiveshell.py:3585: UserWarning: To exit: use 'exit', 'quit', or Ctrl-D.\n",
      "  warn(\"To exit: use 'exit', 'quit', or Ctrl-D.\", stacklevel=1)\n"
     ]
    }
   ],
   "source": [
    "import unittest\n",
    "\n",
    "\n",
    "class TestSum(unittest.TestCase):\n",
    "\n",
    "    def test_sum(self):\n",
    "        self.assertEqual(sum([1, 2, 3]), 6, \"Should be 6\")\n",
    "\n",
    "    def test_sum_tuple(self):\n",
    "        self.assertEqual(sum((1, 2, 2)), 6, \"Should be 6\")\n",
    "\n",
    "if __name__ == '__main__':\n",
    "    unittest.main()\n"
   ]
  },
  {
   "cell_type": "code",
   "execution_count": 13,
   "id": "8be7961e-3399-4d79-9125-8d276d526a56",
   "metadata": {},
   "outputs": [],
   "source": [
    "# As the assignment promised, unittest won't work properly in Jupyter. I'm stubborn, though, and I like to figure out ways around problems."
   ]
  },
  {
   "cell_type": "code",
   "execution_count": 29,
   "id": "154e350f-158d-4798-8647-07bc85a27a9b",
   "metadata": {},
   "outputs": [],
   "source": [
    "# From what I'm reading, unittest fails in Jupyter because it's trying to parse some command-line arguments.\n",
    "# Let's try passing it some dummy command-line arguments, and stop it from trying to exit the Python interpreter\n",
    "# after it finishes running its tests."
   ]
  },
  {
   "cell_type": "code",
   "execution_count": 45,
   "id": "0afc24fc-24b9-491d-a64a-f23da29f29cf",
   "metadata": {},
   "outputs": [
    {
     "name": "stderr",
     "output_type": "stream",
     "text": [
      "test_sum (__main__.TestSum.test_sum) ... ok\n",
      "test_sum_tuple (__main__.TestSum.test_sum_tuple) ... FAIL\n",
      "\n",
      "======================================================================\n",
      "FAIL: test_sum_tuple (__main__.TestSum.test_sum_tuple)\n",
      "----------------------------------------------------------------------\n",
      "Traceback (most recent call last):\n",
      "  File \"C:\\Users\\Volund\\AppData\\Local\\Temp\\ipykernel_13508\\3590213744.py\", line 10, in test_sum_tuple\n",
      "    self.assertEqual(sum((1, 2, 2)), 6, \"Should be 6\")\n",
      "AssertionError: 5 != 6 : Should be 6\n",
      "\n",
      "----------------------------------------------------------------------\n",
      "Ran 2 tests in 0.001s\n",
      "\n",
      "FAILED (failures=1)\n"
     ]
    }
   ],
   "source": [
    "import unittest\n",
    "\n",
    "\n",
    "class TestSum(unittest.TestCase):\n",
    "\n",
    "    def test_sum(self):\n",
    "        self.assertEqual(sum([1, 2, 3]), 6, \"Should be 6\")\n",
    "\n",
    "    def test_sum_tuple(self):\n",
    "        self.assertEqual(sum((1, 2, 2)), 6, \"Should be 6\")\n",
    "\n",
    "if __name__ == '__main__':\n",
    "    unittest.main(argv=['dummy', '-v'], exit=False)\n"
   ]
  },
  {
   "cell_type": "code",
   "execution_count": 47,
   "id": "bb5a8ade-14f2-444b-bcea-e0f944b6d792",
   "metadata": {},
   "outputs": [],
   "source": [
    "# Now that's a successful failure! Now back to our regularly scheduled programming assignment."
   ]
  },
  {
   "cell_type": "code",
   "execution_count": 49,
   "id": "d548caf1-d2d6-4037-9c63-526bc7513c66",
   "metadata": {},
   "outputs": [],
   "source": [
    "# Oh boy, the next exercise doesn't lend itself to running within Jupyter either. Here we go..."
   ]
  },
  {
   "cell_type": "code",
   "execution_count": 51,
   "id": "060f3cf1-85c7-49f8-8745-6c0b0e14635d",
   "metadata": {},
   "outputs": [
    {
     "name": "stdout",
     "output_type": "stream",
     "text": [
      "Installing nose2...\n",
      "Collecting nose2\n",
      "  Downloading nose2-0.15.1-py3-none-any.whl.metadata (7.3 kB)\n",
      "Downloading nose2-0.15.1-py3-none-any.whl (211 kB)\n",
      "   ---------------------------------------- 0.0/211.3 kB ? eta -:--:--\n",
      "   ----- ---------------------------------- 30.7/211.3 kB 1.3 MB/s eta 0:00:01\n",
      "   ---------------------------------------- 211.3/211.3 kB 4.3 MB/s eta 0:00:00\n",
      "Installing collected packages: nose2\n",
      "Successfully installed nose2-0.15.1\n",
      ".F\n",
      "======================================================================\n",
      "FAIL: test_sum_tuple (test_sum_unittest.TestSum.test_sum_tuple)\n",
      "----------------------------------------------------------------------\n",
      "Traceback (most recent call last):\n",
      "  File \"C:\\Users\\Volund\\Documents\\Skool\\SDEV-220\\Module5\\m5pa-testing\\test_sum_unittest.py\", line 10, in test_sum_tuple\n",
      "    self.assertEqual(sum((1, 2, 2)), 6, \"Should be 6\")\n",
      "AssertionError: 5 != 6 : Should be 6\n",
      "\n",
      "----------------------------------------------------------------------\n",
      "Ran 2 tests in 0.000s\n",
      "\n",
      "FAILED (failures=1)\n"
     ]
    }
   ],
   "source": [
    "import subprocess\n",
    "import importlib.util\n",
    "\n",
    "# Check if nose2 already installed\n",
    "if importlib.util.find_spec(\"nose2\") is None:\n",
    "    print(\"Installing nose2...\")\n",
    "    ret=subprocess.getoutput('pip install nose2')\n",
    "    print(ret)\n",
    "else:\n",
    "    print(\"nose2 is already installed\")\n",
    "\n",
    "# Run nose2\n",
    "ret=subprocess.getoutput('python -m nose2')\n",
    "print(ret)"
   ]
  },
  {
   "cell_type": "code",
   "execution_count": 57,
   "id": "5ab0e69b-353a-4bcd-8a22-fc2da7ae7c9f",
   "metadata": {},
   "outputs": [],
   "source": [
    "# Next I'll try to do the same for pytest:"
   ]
  },
  {
   "cell_type": "code",
   "execution_count": 59,
   "id": "a4d24232-5a39-4abd-853a-0c12558953c9",
   "metadata": {},
   "outputs": [
    {
     "name": "stdout",
     "output_type": "stream",
     "text": [
      "pytest is already installed\n",
      "\u001b[1m============================= test session starts =============================\u001b[0m\n",
      "platform win32 -- Python 3.12.4, pytest-7.4.4, pluggy-1.0.0\n",
      "rootdir: C:\\Users\\Volund\\Documents\\Skool\\SDEV-220\\Module5\\m5pa-testing\n",
      "plugins: anyio-4.2.0\n",
      "collected 2 items\n",
      "\n",
      "test_sum_pytest.py \u001b[32m.\u001b[0m\u001b[31mF\u001b[0m\u001b[31m                                                    [100%]\u001b[0m\n",
      "\n",
      "================================== FAILURES ===================================\n",
      "\u001b[31m\u001b[1m_______________________________ test_sum_tuple ________________________________\u001b[0m\n",
      "\n",
      "    \u001b[94mdef\u001b[39;49;00m \u001b[92mtest_sum_tuple\u001b[39;49;00m():\u001b[90m\u001b[39;49;00m\n",
      ">       \u001b[94massert\u001b[39;49;00m \u001b[96msum\u001b[39;49;00m((\u001b[94m1\u001b[39;49;00m, \u001b[94m2\u001b[39;49;00m, \u001b[94m2\u001b[39;49;00m)) == \u001b[94m6\u001b[39;49;00m, \u001b[33m\"\u001b[39;49;00m\u001b[33mShould be 6\u001b[39;49;00m\u001b[33m\"\u001b[39;49;00m\u001b[90m\u001b[39;49;00m\n",
      "\u001b[1m\u001b[31mE       AssertionError: Should be 6\u001b[0m\n",
      "\u001b[1m\u001b[31mE       assert 5 == 6\u001b[0m\n",
      "\u001b[1m\u001b[31mE        +  where 5 = sum((1, 2, 2))\u001b[0m\n",
      "\n",
      "\u001b[1m\u001b[31mtest_sum_pytest.py\u001b[0m:5: AssertionError\n",
      "\u001b[36m\u001b[1m=========================== short test summary info ===========================\u001b[0m\n",
      "\u001b[31mFAILED\u001b[0m test_sum_pytest.py::\u001b[1mtest_sum_tuple\u001b[0m - AssertionError: Should be 6\n",
      "\u001b[31m========================= \u001b[31m\u001b[1m1 failed\u001b[0m, \u001b[32m1 passed\u001b[0m\u001b[31m in 0.06s\u001b[0m\u001b[31m =========================\u001b[0m\n"
     ]
    }
   ],
   "source": [
    "import subprocess\n",
    "import importlib.util\n",
    "\n",
    "# Check if pytest already installed\n",
    "if importlib.util.find_spec(\"pytest\") is None:\n",
    "    print(\"Installing pytest...\")\n",
    "    ret=subprocess.getoutput('pip install -U pytest')\n",
    "    print(ret)\n",
    "else:\n",
    "    print(\"pytest is already installed\")\n",
    "\n",
    "# Run pytest\n",
    "ret=subprocess.getoutput('python -m pytest test_sum_pytest.py')\n",
    "print(ret)"
   ]
  },
  {
   "cell_type": "code",
   "execution_count": 63,
   "id": "636b2092-6b2c-4903-840b-c9fbc16751ac",
   "metadata": {},
   "outputs": [
    {
     "name": "stderr",
     "output_type": "stream",
     "text": [
      "test_list_int (__main__.TestSum.test_list_int)\n",
      "Test that it can sum a list of integers ... ok\n",
      "\n",
      "----------------------------------------------------------------------\n",
      "Ran 1 test in 0.001s\n",
      "\n",
      "OK\n"
     ]
    }
   ],
   "source": [
    "import unittest\n",
    "\n",
    "from my_sum import sum\n",
    "\n",
    "\n",
    "class TestSum(unittest.TestCase):\n",
    "    def test_list_int(self):\n",
    "        \"\"\"\n",
    "        Test that it can sum a list of integers\n",
    "        \"\"\"\n",
    "        data = [1, 2, 3]\n",
    "        result = sum(data)\n",
    "        self.assertEqual(result, 6)\n",
    "\n",
    "if __name__ == '__main__':\n",
    "    unittest.main(argv=['dummy', '-v'], exit=False)\n"
   ]
  },
  {
   "cell_type": "code",
   "execution_count": 65,
   "id": "ee80e254-411b-4d58-be22-4c1b85966560",
   "metadata": {},
   "outputs": [
    {
     "name": "stdout",
     "output_type": "stream",
     "text": [
      ".\n",
      "----------------------------------------------------------------------\n",
      "Ran 1 test in 0.000s\n",
      "\n",
      "OK\n"
     ]
    }
   ],
   "source": [
    "import subprocess\n",
    "\n",
    "ret=subprocess.getoutput('python -m unittest test')\n",
    "print(ret)"
   ]
  },
  {
   "cell_type": "code",
   "execution_count": 67,
   "id": "9b8efc6c-a1ed-4548-8894-bfdb3a926859",
   "metadata": {},
   "outputs": [
    {
     "name": "stdout",
     "output_type": "stream",
     "text": [
      "test_list_int (test.TestSum.test_list_int)\n",
      "Test that it can sum a list of integers ... ok\n",
      "\n",
      "----------------------------------------------------------------------\n",
      "Ran 1 test in 0.000s\n",
      "\n",
      "OK\n"
     ]
    }
   ],
   "source": [
    "import subprocess\n",
    "\n",
    "ret=subprocess.getoutput('python -m unittest -v test')\n",
    "print(ret)"
   ]
  },
  {
   "cell_type": "code",
   "execution_count": 69,
   "id": "31a0b8db-f154-4a60-b1e8-64fed693f21f",
   "metadata": {},
   "outputs": [
    {
     "name": "stdout",
     "output_type": "stream",
     "text": [
      "..F\n",
      "======================================================================\n",
      "FAIL: test_sum_tuple (test_sum_unittest.TestSum.test_sum_tuple)\n",
      "----------------------------------------------------------------------\n",
      "Traceback (most recent call last):\n",
      "  File \"C:\\Users\\Volund\\Documents\\Skool\\SDEV-220\\Module5\\m5pa-testing\\test_sum_unittest.py\", line 10, in test_sum_tuple\n",
      "    self.assertEqual(sum((1, 2, 2)), 6, \"Should be 6\")\n",
      "AssertionError: 5 != 6 : Should be 6\n",
      "\n",
      "----------------------------------------------------------------------\n",
      "Ran 3 tests in 0.004s\n",
      "\n",
      "FAILED (failures=1)\n"
     ]
    }
   ],
   "source": [
    "import subprocess\n",
    "\n",
    "ret=subprocess.getoutput('python -m unittest discover')\n",
    "print(ret)"
   ]
  },
  {
   "cell_type": "code",
   "execution_count": 73,
   "id": "ce07496e-9d88-4b00-8c27-9dc125e8294a",
   "metadata": {},
   "outputs": [
    {
     "name": "stdout",
     "output_type": "stream",
     "text": [
      "Traceback (most recent call last):\n",
      "  File \"<frozen runpy>\", line 198, in _run_module_as_main\n",
      "  File \"<frozen runpy>\", line 88, in _run_code\n",
      "  File \"C:\\Users\\Volund\\anaconda3\\Lib\\unittest\\__main__.py\", line 18, in <module>\n",
      "    main(module=None)\n",
      "  File \"C:\\Users\\Volund\\anaconda3\\Lib\\unittest\\main.py\", line 104, in __init__\n",
      "    self.parseArgs(argv)\n",
      "  File \"C:\\Users\\Volund\\anaconda3\\Lib\\unittest\\main.py\", line 130, in parseArgs\n",
      "    self._do_discovery(argv[2:])\n",
      "  File \"C:\\Users\\Volund\\anaconda3\\Lib\\unittest\\main.py\", line 253, in _do_discovery\n",
      "    self.createTests(from_discovery=True, Loader=Loader)\n",
      "  File \"C:\\Users\\Volund\\anaconda3\\Lib\\unittest\\main.py\", line 160, in createTests\n",
      "    self.test = loader.discover(self.start, self.pattern, self.top)\n",
      "                ^^^^^^^^^^^^^^^^^^^^^^^^^^^^^^^^^^^^^^^^^^^^^^^^^^^\n",
      "  File \"C:\\Users\\Volund\\anaconda3\\Lib\\unittest\\loader.py\", line 292, in discover\n",
      "    os.path.dirname((the_module.__file__)))\n",
      "    ^^^^^^^^^^^^^^^^^^^^^^^^^^^^^^^^^^^^^^\n",
      "  File \"<frozen ntpath>\", line 277, in dirname\n",
      "  File \"<frozen ntpath>\", line 241, in split\n",
      "TypeError: expected str, bytes or os.PathLike object, not NoneType\n"
     ]
    }
   ],
   "source": [
    "import subprocess\n",
    "\n",
    "#I don't anticipate this one doing anything because I don't have a tests folder\n",
    "ret=subprocess.getoutput('python -m unittest discover -s tests')\n",
    "print(ret)"
   ]
  },
  {
   "cell_type": "code",
   "execution_count": 75,
   "id": "e4163918-2a41-4d02-9c72-0f84f60ae597",
   "metadata": {},
   "outputs": [
    {
     "name": "stdout",
     "output_type": "stream",
     "text": [
      ".\n",
      "----------------------------------------------------------------------\n",
      "Ran 1 test in 0.000s\n",
      "\n",
      "OK\n"
     ]
    }
   ],
   "source": [
    "# OK I've created a folder tests and dropped test.py in there, let's try the same thing again:\n",
    "import subprocess\n",
    "\n",
    "ret=subprocess.getoutput('python -m unittest discover -s tests')\n",
    "print(ret)"
   ]
  },
  {
   "cell_type": "code",
   "execution_count": 81,
   "id": "efe626a4-0c09-4cc6-9761-7d9c50c5cb2d",
   "metadata": {},
   "outputs": [
    {
     "name": "stderr",
     "output_type": "stream",
     "text": [
      "test_list_fraction (__main__.TestSum.test_list_fraction)\n",
      "Test that it can sum a list of fractions ... FAIL\n",
      "test_list_int (__main__.TestSum.test_list_int)\n",
      "Test that it can sum a list of integers ... ok\n",
      "\n",
      "======================================================================\n",
      "FAIL: test_list_fraction (__main__.TestSum.test_list_fraction)\n",
      "Test that it can sum a list of fractions\n",
      "----------------------------------------------------------------------\n",
      "Traceback (most recent call last):\n",
      "  File \"C:\\Users\\Volund\\AppData\\Local\\Temp\\ipykernel_13508\\1216957318.py\", line 23, in test_list_fraction\n",
      "    self.assertEqual(result, 1)\n",
      "AssertionError: Fraction(9, 10) != 1\n",
      "\n",
      "----------------------------------------------------------------------\n",
      "Ran 2 tests in 0.002s\n",
      "\n",
      "FAILED (failures=1)\n"
     ]
    }
   ],
   "source": [
    "# test with fractions\n",
    "import unittest\n",
    "from fractions import Fraction\n",
    "from my_sum import sum\n",
    "\n",
    "\n",
    "class TestSum(unittest.TestCase):\n",
    "    def test_list_int(self):\n",
    "        \"\"\"\n",
    "        Test that it can sum a list of integers\n",
    "        \"\"\"\n",
    "        data = [1, 2, 3]\n",
    "        result = sum(data)\n",
    "        self.assertEqual(result, 6)\n",
    "\n",
    "\n",
    "    def test_list_fraction(self):\n",
    "        \"\"\"\n",
    "        Test that it can sum a list of fractions\n",
    "        \"\"\"\n",
    "        data = [Fraction(1, 4), Fraction(1, 4), Fraction(2, 5)]\n",
    "        result = sum(data)\n",
    "        self.assertEqual(result, 1)\n",
    "\n",
    "\n",
    "if __name__ == '__main__':\n",
    "    unittest.main(argv=['dummy', '-v'], exit=False)"
   ]
  },
  {
   "cell_type": "code",
   "execution_count": 83,
   "id": "c76acbd3-6a9f-4eea-bcbb-a330b3e72bed",
   "metadata": {},
   "outputs": [],
   "source": [
    "# Broadly, an assertion is a way to test if a condition is true.\n",
    "# In testing, assertions are used to verify that a program's results are the oens expected.\n",
    "# In these tests, the assertions were crafted deliberately with wrong values to illustrate\n",
    "# the testing process."
   ]
  },
  {
   "cell_type": "code",
   "execution_count": null,
   "id": "f6d9db94-91e3-4b73-b13b-f2400e045e54",
   "metadata": {},
   "outputs": [],
   "source": []
  }
 ],
 "metadata": {
  "kernelspec": {
   "display_name": "Python 3 (ipykernel)",
   "language": "python",
   "name": "python3"
  },
  "language_info": {
   "codemirror_mode": {
    "name": "ipython",
    "version": 3
   },
   "file_extension": ".py",
   "mimetype": "text/x-python",
   "name": "python",
   "nbconvert_exporter": "python",
   "pygments_lexer": "ipython3",
   "version": "3.12.4"
  }
 },
 "nbformat": 4,
 "nbformat_minor": 5
}
